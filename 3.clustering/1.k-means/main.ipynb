{
 "cells": [
  {
   "cell_type": "markdown",
   "metadata": {},
   "source": [
    "<h2>K-Means Clustering</h2>  \n",
    "\n",
    "***K-Means Clustering*** is a popular unsupervised machine learning algorithm used for partitioning a dataset into a set of distinct, non-overlapping groups (clusters). <br>\n",
    "\n",
    "It aims to group similar data points together while ensuring that the data points within the same cluster are more similar to each other than to those in other clusters."
   ]
  }
 ],
 "metadata": {
  "language_info": {
   "name": "python"
  }
 },
 "nbformat": 4,
 "nbformat_minor": 2
}
